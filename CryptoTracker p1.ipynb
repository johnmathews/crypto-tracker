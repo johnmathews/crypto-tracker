{
 "cells": [
  {
   "cell_type": "markdown",
   "metadata": {
    "toc": "true"
   },
   "source": [
    "# Table of Contents\n",
    " <p><div class=\"lev1 toc-item\"><a href=\"#Code-Toggle\" data-toc-modified-id=\"Code-Toggle-1\"><span class=\"toc-item-num\">1&nbsp;&nbsp;</span>Code Toggle</a></div><div class=\"lev1 toc-item\"><a href=\"#Import\" data-toc-modified-id=\"Import-2\"><span class=\"toc-item-num\">2&nbsp;&nbsp;</span>Import</a></div><div class=\"lev2 toc-item\"><a href=\"#List-of-assets\" data-toc-modified-id=\"List-of-assets-21\"><span class=\"toc-item-num\">2.1&nbsp;&nbsp;</span>List of assets</a></div><div class=\"lev2 toc-item\"><a href=\"#Create-list-of-files-in-each-input-dir\" data-toc-modified-id=\"Create-list-of-files-in-each-input-dir-22\"><span class=\"toc-item-num\">2.2&nbsp;&nbsp;</span>Create list of files in each input dir</a></div><div class=\"lev2 toc-item\"><a href=\"#Holdings-and-costs-data\" data-toc-modified-id=\"Holdings-and-costs-data-23\"><span class=\"toc-item-num\">2.3&nbsp;&nbsp;</span>Holdings and costs data</a></div><div class=\"lev2 toc-item\"><a href=\"#Cost-data\" data-toc-modified-id=\"Cost-data-24\"><span class=\"toc-item-num\">2.4&nbsp;&nbsp;</span>Cost data</a></div><div class=\"lev2 toc-item\"><a href=\"#Market-prices\" data-toc-modified-id=\"Market-prices-25\"><span class=\"toc-item-num\">2.5&nbsp;&nbsp;</span>Market prices</a></div><div class=\"lev3 toc-item\"><a href=\"#Quandl-data\" data-toc-modified-id=\"Quandl-data-251\"><span class=\"toc-item-num\">2.5.1&nbsp;&nbsp;</span>Quandl data</a></div><div class=\"lev3 toc-item\"><a href=\"#Scraper\" data-toc-modified-id=\"Scraper-252\"><span class=\"toc-item-num\">2.5.2&nbsp;&nbsp;</span>Scraper</a></div><div class=\"lev3 toc-item\"><a href=\"#write-price-data-to-inputs\" data-toc-modified-id=\"write-price-data-to-inputs-253\"><span class=\"toc-item-num\">2.5.3&nbsp;&nbsp;</span>write price data to inputs</a></div><div class=\"lev3 toc-item\"><a href=\"#Alt-coin-list-STILL\" data-toc-modified-id=\"Alt-coin-list-STILL-254\"><span class=\"toc-item-num\">2.5.4&nbsp;&nbsp;</span>Alt coin list STILL</a></div><div class=\"lev2 toc-item\"><a href=\"#Price-change-since-last-tnsx\" data-toc-modified-id=\"Price-change-since-last-tnsx-26\"><span class=\"toc-item-num\">2.6&nbsp;&nbsp;</span>Price change since last tnsx</a></div><div class=\"lev3 toc-item\"><a href=\"#define-getPrice-returns-dict-of-price-data\" data-toc-modified-id=\"define-getPrice-returns-dict-of-price-data-261\"><span class=\"toc-item-num\">2.6.1&nbsp;&nbsp;</span>define getPrice returns dict of price data</a></div><div class=\"lev3 toc-item\"><a href=\"#Compare\" data-toc-modified-id=\"Compare-262\"><span class=\"toc-item-num\">2.6.2&nbsp;&nbsp;</span><strong>Compare</strong></a></div><div class=\"lev1 toc-item\"><a href=\"#Output-files\" data-toc-modified-id=\"Output-files-3\"><span class=\"toc-item-num\">3&nbsp;&nbsp;</span>Output files</a></div><div class=\"lev2 toc-item\"><a href=\"#AssetBal-\" data-toc-modified-id=\"AssetBal--31\"><span class=\"toc-item-num\">3.1&nbsp;&nbsp;</span><strong>AssetBal </strong></a></div><div class=\"lev3 toc-item\"><a href=\"#Alt-coin-list-STILL2\" data-toc-modified-id=\"Alt-coin-list-STILL2-311\"><span class=\"toc-item-num\">3.1.1&nbsp;&nbsp;</span>Alt coin list STILL2</a></div><div class=\"lev2 toc-item\"><a href=\"#AssetValue\" data-toc-modified-id=\"AssetValue-32\"><span class=\"toc-item-num\">3.2&nbsp;&nbsp;</span><strong>AssetValue</strong></a></div><div class=\"lev3 toc-item\"><a href=\"#Alt-coin-list--STILL3\" data-toc-modified-id=\"Alt-coin-list--STILL3-321\"><span class=\"toc-item-num\">3.2.1&nbsp;&nbsp;</span>Alt coin list  STILL3</a></div><div class=\"lev2 toc-item\"><a href=\"#Performance-table\" data-toc-modified-id=\"Performance-table-33\"><span class=\"toc-item-num\">3.3&nbsp;&nbsp;</span><strong>Performance</strong> table</a></div><div class=\"lev1 toc-item\"><a href=\"#Export-tables\" data-toc-modified-id=\"Export-tables-4\"><span class=\"toc-item-num\">4&nbsp;&nbsp;</span>Export tables</a></div>"
   ]
  },
  {
   "cell_type": "markdown",
   "metadata": {},
   "source": [
    "## Code Toggle"
   ]
  },
  {
   "cell_type": "markdown",
   "metadata": {},
   "source": [
    "from IPython.display import HTML\n",
    "HTML('''<script>\n",
    "code_show=false; \n",
    "function code_toggle() {\n",
    " if (code_show){\n",
    " $('div.input').show();\n",
    " $('div.output_prompt').show();\n",
    " } else {\n",
    " $('div.input').hide();\n",
    " $('div.output_prompt').hide();\n",
    " }\n",
    " code_show =! code_show\n",
    "} \n",
    "$( document ).ready(code_toggle);\n",
    "</script>\n",
    "\n",
    "<font> This analysis was made using Python. If you'd like to see the code used, click <a href=\"javascript:code_toggle()\">here</a>.</font>\n",
    "''')\n",
    "\n"
   ]
  },
  {
   "cell_type": "raw",
   "metadata": {},
   "source": [
    "<script> \n",
    "window.onload = function() {\n",
    "  code_toggle();\n",
    "};\n",
    "</script>"
   ]
  },
  {
   "cell_type": "markdown",
   "metadata": {},
   "source": [
    "# Setup"
   ]
  },
  {
   "cell_type": "code",
   "execution_count": null,
   "metadata": {
    "collapsed": true
   },
   "outputs": [],
   "source": [
    "## Setup - libraries\n",
    "import os\n",
    "import glob\n",
    "import pickle\n",
    "import quandl\n",
    "import matplotlib.pyplot as plt\n",
    "import pandas as pd\n",
    "import datetime as dt\n",
    "from dateutil.parser import parse\n",
    "from datetime import datetime, time, timedelta, date\n",
    "import numpy as np\n",
    "from collections import OrderedDict\n",
    "import credentials # keep my quandl and plot.ly api keys private\n",
    "\n",
    "from bs4 import BeautifulSoup\n",
    "import urllib.request\n",
    "from numpy import array"
   ]
  },
  {
   "cell_type": "code",
   "execution_count": null,
   "metadata": {
    "collapsed": true
   },
   "outputs": [],
   "source": [
    "## Setup - appearance\n",
    "# get rid of the annoying 'SettingWithCopy' warning\n",
    "pd.options.mode.chained_assignment = None # default='warn'\n",
    "\n",
    "# more than one print of an unassigned variable\n",
    "from IPython.core.interactiveshell import InteractiveShell;\n",
    "InteractiveShell.ast_node_interactivity = \"all\";\n",
    "\n",
    "#color1 = 'red'\n",
    "#color2 = '#137a28' # dark green"
   ]
  },
  {
   "cell_type": "code",
   "execution_count": null,
   "metadata": {},
   "outputs": [],
   "source": [
    "standingDataDir = \"/users/John/projects/cryptoTracker/outputs/standingData\"\n",
    "os.chdir(standingDataDir)\n",
    "\n",
    "f = open('tableReference.csv','w') # w for overwrite, a for append\n",
    "f.write('Name, Description, Notes') #Give your csv text here.\n",
    "f.write('\\n') # Python will convert \\n to os.linesep\n",
    "f.close()"
   ]
  },
  {
   "cell_type": "markdown",
   "metadata": {},
   "source": [
    "## Import\n",
    "### List of assets"
   ]
  },
  {
   "cell_type": "code",
   "execution_count": null,
   "metadata": {
    "collapsed": true
   },
   "outputs": [],
   "source": [
    "# import Register file\n",
    "inputDir = \"/users/John/projects/cryptoTracker/inputs\"\n",
    "os.chdir(inputDir)\n",
    "register = pd.read_csv('register.csv', skipinitialspace=True)\n",
    "registerAll = pd.read_csv('register.csv', skipinitialspace=True)\n",
    "register = register.loc[register[\"Include\"] == 1]\n",
    "\n",
    "\n",
    "# create dictionary of names and tickers\n",
    "assets = dict(zip(register['Asset'],register['Ticker']))\n",
    "assets = OrderedDict(sorted(assets.items()))\n",
    "\n",
    "assetsAll = dict(zip(registerAll['Asset'],registerAll['Ticker']))\n",
    "assetsAll = OrderedDict(sorted(assetsAll.items()))\n",
    "\n",
    "# create lists\n",
    "assetNames = list(assets.keys()) \n",
    "assetTickers = list(assets.values())\n",
    "\n",
    "assetNamesAll = list(assetsAll.keys()) \n",
    "assetTickersAll = list(assetsAll.values())\n",
    "\n",
    "assetTickers_ = []\n",
    "for each in assetTickers:\n",
    "    assetTickers_.append(each+'_') \n",
    "    \n",
    "assetTickersUPPER = []\n",
    "for each in assetTickers:\n",
    "    assetTickersUPPER.append(each.upper())\n",
    "\n",
    "assetTickersLOWER = []\n",
    "for each in assetTickers:\n",
    "    assetTickersLOWER.append(each.lower())\n",
    "    \n",
    "assetTickers_all = []\n",
    "for each in assetTickers:\n",
    "    assetTickers_all.append(each+'_all')\n",
    "    \n",
    "assetTickers_val = []\n",
    "for each in assetTickers:\n",
    "    assetTickers_val.append(each+'_val')\n",
    "\n",
    "assetTickersp = []\n",
    "for each in assetTickers:\n",
    "    assetTickersp.append(each+'p')\n",
    "    \n",
    "    \n",
    "assetTickersp1 = []\n",
    "for each in assetTickers:\n",
    "    assetTickersp1.append(each+'p1')\n",
    "    \n",
    "assetTickersp7 = []\n",
    "for each in assetTickers:\n",
    "    assetTickersp7.append(each+'p7')\n",
    "    \n",
    "assetTickersp30 = []\n",
    "for each in assetTickers:\n",
    "    assetTickersp30.append(each+'p30')\n"
   ]
  },
  {
   "cell_type": "markdown",
   "metadata": {},
   "source": [
    "### Create list of files in each input dir"
   ]
  },
  {
   "cell_type": "code",
   "execution_count": null,
   "metadata": {
    "collapsed": true
   },
   "outputs": [],
   "source": [
    "## Asset List ##\n",
    "# set the locations of the .csv files containing balances through time\n",
    "\n",
    "coinbaseDir = \"/users/John/projects/cryptoTracker/inputs/coinbase_reports\"\n",
    "tnsxDir = \"/users/John/projects/cryptoTracker/inputs/balances\"\n",
    "costsDir = \"/users/John/projects/cryptoTracker/inputs/costs\"\n",
    "priceDataDir = \"/users/John/projects/cryptoTracker/inputs/priceData\"\n",
    "pklData = \"/users/John/projects/cryptoTracker/inputs/pklData\"\n",
    "projDir = \"/users/John/projects/cryptoTracker\"\n",
    "\n",
    "coinbaseReports = []\n",
    "tnsxFiles = []\n",
    "costFiles = []\n",
    "fileList4 = []\n",
    "\n",
    "# Coinbase Reports\n",
    "os.chdir(coinbaseDir)\n",
    "for file in glob.glob(\"Coinbase-*.csv\"):\n",
    "    coinbaseReports.append(file)\n",
    "    \n",
    "# Asset balances\n",
    "os.chdir(tnsxDir)\n",
    "for file in glob.glob(\"*.csv\"):\n",
    "    tnsxFiles.append(file)\n",
    "    \n",
    "# Cost data\n",
    "os.chdir(costsDir)\n",
    "for file in glob.glob(\"*.csv\"):\n",
    "    costFiles.append(file)\n",
    "    fileList4.append(file)\n",
    "\n",
    "os.chdir(\"..\")"
   ]
  },
  {
   "cell_type": "markdown",
   "metadata": {},
   "source": [
    "### Holdings and costs data"
   ]
  },
  {
   "cell_type": "code",
   "execution_count": null,
   "metadata": {
    "collapsed": true
   },
   "outputs": [],
   "source": [
    "# there is one transaction/balance file for each asset\n",
    "# import each of these files, convert into df\n",
    "# each df is a dict entry\n",
    "# e.g. myData[BTC] or myData[cb_btw]\n",
    "\n",
    "\n",
    "# Coinbase files - wallets, vaults, fiat.\n",
    "fileDic = {}\n",
    "myData = {}\n",
    "\n",
    "for file in coinbaseReports:\n",
    "    filePath = coinbaseDir+'/{}'\n",
    "    fname = filePath.format(file)\n",
    "    name = pd.read_csv(fname, skiprows=1, nrows=1).loc[0][1]\n",
    "    df = pd.read_csv(fname, \n",
    "                     skiprows=3,\n",
    "                     parse_dates=[0], \n",
    "                     infer_datetime_format=True,\n",
    "                     skipinitialspace=True,\n",
    "                     index_col=0)\n",
    "    myData[name] = df\n",
    "\n",
    "# dict.pop(key) removes key from the dict and returns it. \n",
    "# effectively this renames the key\n",
    "myData['EUR Wallet']['EUR'] = myData['EUR Wallet']['Balance'] \n",
    "myData['EUR_cb']  = myData.pop('EUR Wallet')\n",
    "myData['GBP_cb']  = myData.pop('GBP Wallet')\n",
    "myData['BTC_cbw']  = myData.pop('BTC Wallet')\n",
    "myData['BTC_cbv'] = myData.pop('BTC Vault')\n",
    "myData['LTC_cbw']  = myData.pop('LTC Wallet')\n",
    "myData['LTC_cbv'] = myData.pop('LTC Vault')\n",
    "myData['ETH_cbw']  = myData.pop('ETH Wallet')\n",
    "myData['ETH_cbv'] = myData.pop('ETH Vault')"
   ]
  },
  {
   "cell_type": "code",
   "execution_count": null,
   "metadata": {
    "collapsed": true
   },
   "outputs": [],
   "source": [
    "# import TRANSACTION files\n",
    "for file in tnsxFiles:\n",
    "    filePath = tnsxDir+'/{}'\n",
    "    fname = filePath.format(file)\n",
    "    tkr = file.split(\".\")[0]\n",
    "    df = pd.read_csv(fname,\n",
    "                     usecols = [0,1,2,3],\n",
    "                     parse_dates=[0], \n",
    "                     infer_datetime_format=True,\n",
    "                     skipinitialspace=True,\n",
    "                     index_col=0)\n",
    "    df.index.name = 'Date Time'\n",
    "    myData[tkr] = df  "
   ]
  },
  {
   "cell_type": "code",
   "execution_count": null,
   "metadata": {
    "collapsed": true
   },
   "outputs": [],
   "source": [
    "\n",
    "# import COSTS file\n",
    "for file in costFiles:\n",
    "    filePath = costsDir+'/{}'\n",
    "    fname = filePath.format(file)\n",
    "    name = file.split(\".\")[0]\n",
    "    df = pd.read_csv(fname,\n",
    "                     parse_dates=[0], \n",
    "                     infer_datetime_format=True,\n",
    "                     skipinitialspace=True,\n",
    "                     index_col=0)\n",
    "    df.index.name = 'Timestamp'\n",
    "    myData[name] = df"
   ]
  },
  {
   "cell_type": "markdown",
   "metadata": {},
   "source": [
    "### Cost data"
   ]
  },
  {
   "cell_type": "code",
   "execution_count": null,
   "metadata": {
    "collapsed": true
   },
   "outputs": [],
   "source": [
    "cost = myData['cost']"
   ]
  },
  {
   "cell_type": "markdown",
   "metadata": {},
   "source": [
    "###  Market prices"
   ]
  },
  {
   "cell_type": "markdown",
   "metadata": {},
   "source": [
    "HTML('''To see the code used, click <a href=\"javascript:code_toggle()\">here</a>''')"
   ]
  },
  {
   "cell_type": "markdown",
   "metadata": {
    "collapsed": true
   },
   "source": [
    "#### Quandl data"
   ]
  },
  {
   "cell_type": "code",
   "execution_count": null,
   "metadata": {
    "collapsed": true
   },
   "outputs": [],
   "source": [
    "# Download each dataset from quandl\n",
    "\n",
    "def get_data(quandl_id):\n",
    "    os.chdir(pklData)\n",
    "    #'''Download and cache Quandl data series'''\n",
    "    \n",
    "    cache_path = '{}.pkl'.format(quandl_id).replace('/','-')\n",
    "    \n",
    "    #try:\n",
    "    #    '''If data is already on disk, don't download it again'''\n",
    "    #    f = open(cache_path, 'rb')\n",
    "    #    df = pickle.load(f)   \n",
    "    #    #print('Loaded {} from cache'.format(quandl_id))\n",
    "        \n",
    "    #except (OSError, IOError) as e:\n",
    "    print('Downloading {} from Quandl'.format(quandl_id))\n",
    "    df = quandl.get(quandl_id, returns=\"pandas\")\n",
    "    df.to_pickle(cache_path)\n",
    "    print('Cached {} at {}'.format(quandl_id, cache_path) )\n",
    "\n",
    "    os.chdir(projDir)\n",
    "    return df"
   ]
  },
  {
   "cell_type": "code",
   "execution_count": null,
   "metadata": {
    "collapsed": true
   },
   "outputs": [],
   "source": [
    "###################################\n",
    "# Quandle codes for each dataset. #\n",
    "###################################\n",
    "\n",
    "quandlData = ['ltc_btc','eth_btc','gbp','EURGBP', 'EURUSD']"
   ]
  },
  {
   "cell_type": "code",
   "execution_count": null,
   "metadata": {},
   "outputs": [],
   "source": [
    "# Cool loop to define and name variables.   \n",
    "assetPrices = {}\n",
    "\n",
    "for item in quandlData:\n",
    "    data_code = '{}'.format(item) \n",
    "    if item in [\"EURGBP\", \"EURUSD\"]:\n",
    "        dataset = get_data( 'ECB/{}'.format(item) )\n",
    "    else:\n",
    "        dataset = get_data( 'GDAX/{}'.format(item) )\n",
    "    assetPrices[item] = dataset\n",
    "    \n",
    "#assetPrices['ltc_btc'].tail()"
   ]
  },
  {
   "cell_type": "markdown",
   "metadata": {},
   "source": [
    "#### Scraper"
   ]
  },
  {
   "cell_type": "code",
   "execution_count": null,
   "metadata": {
    "collapsed": true
   },
   "outputs": [],
   "source": [
    "def scrapePrice(coin, startDate = '20170401', endDate = dt.datetime.now().strftime(\"%Y%m%d\") ):\n",
    "    # get table from coinmarketcap.com\n",
    "    url=\"https://coinmarketcap.com/currencies/{}/historical-data/?start={}&end={}\".format(coin.lower(),startDate,endDate)\n",
    "    #print(\"Scraping: \", url)\n",
    "    # download the table\n",
    "    resp = urllib.request.urlopen(url)\n",
    "    soup = BeautifulSoup(resp, 'lxml')\n",
    "    table = soup.find('table')\n",
    "    \n",
    "    # parse result into a list\n",
    "    table_text=[]\n",
    "    \n",
    "    for tr in table.findAll('tr'):\n",
    "        tds = tr.findAll('td')\n",
    "        for td in tds:\n",
    "            table_text.append(td.get_text())\n",
    "            \n",
    "    # parse the list into a df\n",
    "    a = array(table_text)\n",
    "    b = a.reshape(-1, 7)\n",
    "    cols = ['Date', 'Open', 'High', 'Low', 'Close', 'Volume', 'Market Cap']\n",
    "    df = pd.DataFrame(b)\n",
    "    df.columns = cols\n",
    "    \n",
    "    # make the date the index\n",
    "    df = df.set_index('Date')\n",
    "    \n",
    "    # make index a datetime\n",
    "    df.index = pd.to_datetime(df.index)\n",
    "    \n",
    "    #for column in df:\n",
    "    #    pd.to_numeric(column)\n",
    "    return df"
   ]
  },
  {
   "cell_type": "markdown",
   "metadata": {},
   "source": [
    "#### write price data to inputs"
   ]
  },
  {
   "cell_type": "code",
   "execution_count": null,
   "metadata": {},
   "outputs": [],
   "source": [
    "coins = {}\n",
    "tickers = {}\n",
    "print (\"Scraping price data from CoinMarketCap.com\")\n",
    "for coin in assetNames:\n",
    "        tkr = assets.get(coin) \n",
    "        #print(\"Scraping {}\".format(coin))\n",
    "        coins[coin] = scrapePrice(coin) # needs to be name not ticker \n",
    "        tickers[tkr] = coins[coin]\n",
    "        coins[coin].to_csv(\"{}/{}.csv\".format(priceDataDir, tkr))\n",
    "print (\"Scraping complete\")"
   ]
  },
  {
   "cell_type": "code",
   "execution_count": null,
   "metadata": {
    "collapsed": true
   },
   "outputs": [],
   "source": [
    "# Take one column from many dfs and merge into a single new df\n",
    "\n",
    "def one_col_from_each_df(asset_prices, col):\n",
    "    '''Merge a single column of each dataframe into a new combined dataframe'''\n",
    "    \n",
    "    series_dict = {}\n",
    "    \n",
    "    for key in asset_prices:\n",
    "        series_dict[key] = asset_prices[key][col]    \n",
    "    \n",
    "    return pd.DataFrame(series_dict)"
   ]
  },
  {
   "cell_type": "code",
   "execution_count": null,
   "metadata": {
    "collapsed": true
   },
   "outputs": [],
   "source": [
    "assetPrices[\"EURGBP\"]['Open'] = assetPrices[\"EURGBP\"]['Value']\n",
    "assetPrices[\"EURUSD\"]['Open'] = assetPrices[\"EURUSD\"]['Value']"
   ]
  },
  {
   "cell_type": "code",
   "execution_count": null,
   "metadata": {
    "collapsed": true
   },
   "outputs": [],
   "source": [
    "# Merge opening price for each currency into a single dataframe\n",
    "marketDataQuandl = one_col_from_each_df(assetPrices, 'Open')\n",
    "marketDataQuandl.loc['2017-03-01':'2017-03-02']['ltc_btc'] = np.NaN"
   ]
  },
  {
   "cell_type": "code",
   "execution_count": null,
   "metadata": {
    "collapsed": true
   },
   "outputs": [],
   "source": [
    "altPrices = one_col_from_each_df(coins, 'Close')\n",
    "altPrices = altPrices.fillna(0)\n",
    "#altPrices.tail()"
   ]
  },
  {
   "cell_type": "code",
   "execution_count": null,
   "metadata": {
    "collapsed": true
   },
   "outputs": [],
   "source": [
    "#altPrices.dtypes\n",
    "#altPrices.head(1)\n",
    "#altPrices.head().isnull()\n",
    "\n",
    "for column in altPrices:\n",
    "    altPrices[column] = altPrices[column].apply(pd.to_numeric, errors='coerce')\n",
    "\n",
    "#altPrices.head(1)\n",
    "#altPrices.dtypes"
   ]
  },
  {
   "cell_type": "code",
   "execution_count": null,
   "metadata": {
    "collapsed": true
   },
   "outputs": [],
   "source": [
    "marketDataQuandl.index = pd.to_datetime(marketDataQuandl.index)"
   ]
  },
  {
   "cell_type": "code",
   "execution_count": null,
   "metadata": {
    "collapsed": true
   },
   "outputs": [],
   "source": [
    "altPrices.columns = assetTickers"
   ]
  },
  {
   "cell_type": "code",
   "execution_count": null,
   "metadata": {
    "collapsed": true
   },
   "outputs": [],
   "source": [
    "#marketData = pd.concat(['marketDataQuandl','altPrices'], axis=1)\n",
    "#marketData = altPrices\n",
    "marketData = pd.merge(marketDataQuandl, \n",
    "                      altPrices, \n",
    "                      how='outer',\n",
    "                      right_index=True, \n",
    "                      left_index=True) #, on='subject_id')\n",
    "\n",
    "marketData = marketData.interpolate(method='time')"
   ]
  },
  {
   "cell_type": "markdown",
   "metadata": {},
   "source": [
    "#### Alt coin list STILL"
   ]
  },
  {
   "cell_type": "code",
   "execution_count": null,
   "metadata": {
    "collapsed": true
   },
   "outputs": [],
   "source": []
  },
  {
   "cell_type": "code",
   "execution_count": null,
   "metadata": {},
   "outputs": [],
   "source": [
    "len(assets)"
   ]
  },
  {
   "cell_type": "code",
   "execution_count": null,
   "metadata": {},
   "outputs": [],
   "source": [
    "#####################################\n",
    "# convert to GBP and rename columns #\n",
    "#####################################\n",
    "\n",
    "#marketData['btc'] = marketData['gbp']\n",
    "#marketData['eth'] = marketData['gbp'] * marketData['eth_btc']\n",
    "#marketData['ltc'] = marketData['gbp'] * marketData['ltc_btc']\n",
    "marketData['eur'] = marketData['EURGBP']\n",
    "marketData['usd'] = ( 1/ marketData['EURUSD'] ) * marketData['EURGBP']\n",
    "\n",
    "# the orginal column names are specified in \"altCols\" 2 cells above.\n",
    "\n",
    "for each in range(len(assets)):\n",
    "    marketData[assetTickers_[each]]=marketData[assetTickers[each]] * marketData['usd']"
   ]
  },
  {
   "cell_type": "code",
   "execution_count": null,
   "metadata": {},
   "outputs": [],
   "source": [
    "FXRate = pd.DataFrame(data=marketData['usd'])\n",
    "#FXRate.head()"
   ]
  },
  {
   "cell_type": "code",
   "execution_count": null,
   "metadata": {
    "collapsed": true
   },
   "outputs": [],
   "source": [
    "#** start data on 1 April 2017 \n",
    "#asset prices are in a df called marketData **"
   ]
  },
  {
   "cell_type": "code",
   "execution_count": null,
   "metadata": {
    "collapsed": true
   },
   "outputs": [],
   "source": [
    "tempList = [ 'eur', 'eth_btc', 'ltc_btc']+assetTickers_\n",
    "# put price data in its own df (\"prices\") to do growth analysis later\n",
    "# keep prices in GBP because GBP varies less than any other common measure.\n",
    "marketData = marketData.loc['2017-04-01':,tempList]\n",
    "#marketData.tail()"
   ]
  },
  {
   "cell_type": "code",
   "execution_count": null,
   "metadata": {},
   "outputs": [],
   "source": [
    "marketData = marketData.interpolate(method='time')\n",
    "#marketData.head()\n",
    "\n",
    "standingDataDir = \"/users/John/projects/cryptoTracker/outputs/standingData\"\n",
    "os.chdir(standingDataDir)\n",
    "\n",
    "f = open('tableReference.csv','a') # w for overwrite, a for append\n",
    "f.write('marketData.csv, closing daily price of asset (GBP), since 1 April 2017') #Give your csv text here.\n",
    "f.write('\\n') # Python will convert \\n to os.linesep\n",
    "f.close()\n"
   ]
  },
  {
   "cell_type": "markdown",
   "metadata": {},
   "source": [
    "### Price change since last tnsx\n",
    "#### define getPrice returns dict of price data"
   ]
  },
  {
   "cell_type": "code",
   "execution_count": null,
   "metadata": {
    "collapsed": true
   },
   "outputs": [],
   "source": [
    "def getPrice(tkr,tnsxDate):\n",
    "    df = tickers[tkr]\n",
    "    index = tnsxDate\n",
    "    # index = parse(tnsxDate)\n",
    "    nowDate = dt.date.today() - timedelta(1)\n",
    "    column = 'Close'\n",
    "    \n",
    "    PricePaid = float(df.loc[index][column])\n",
    "    PricePaidBTC = PricePaid / float(tickers['BTC'].loc[index][column])\n",
    "    PriceNow = float(df.loc[nowDate][column])\n",
    "    PriceNowBTC = PriceNow / float(tickers['BTC'].loc[nowDate][column])\n",
    "    \n",
    "    PricePaidGBP = FXRate.loc[index]['usd'] * float(df.loc[index][column])\n",
    "    PriceNowGBP = FXRate.loc[nowDate]['usd'] * float(df.loc[nowDate][column])\n",
    "    \n",
    "    x = {'PricePaidUSD': PricePaid, \n",
    "         'PricePaidBTC':PricePaidBTC,\n",
    "         'PriceNowUSD':PriceNow,\n",
    "         'PriceNowBTC':PriceNowBTC,\n",
    "         'PricePaidGBP':PricePaidGBP,\n",
    "         'PriceNowGBP':PriceNowGBP\n",
    "        }\n",
    "    #print(df.tail())\n",
    "    return x #.get('PriceNowGBP')\n",
    "\n",
    "#getPrice('AE','2017-12-01')"
   ]
  },
  {
   "cell_type": "markdown",
   "metadata": {},
   "source": [
    "#### **Compare**"
   ]
  },
  {
   "cell_type": "code",
   "execution_count": null,
   "metadata": {},
   "outputs": [],
   "source": [
    "# create df of asset, last tnsx date, price change since that date, BTC change since that date, Basket 1 since date, etc\n",
    "colNames = ['TnsxDate','Units','BTCThen','BTCNow','GBPThen','GBPNow'] #'BTCChange', 'GBPChange',\n",
    "compare = pd.DataFrame(columns=colNames, index=assetTickers)\n",
    "\n",
    "#lastTnsx = 1 # {}\n",
    "# fill in blance and date columns in compare dataframe\n",
    "for file in tnsxFiles:\n",
    "    tkr = file.split(\".\")[0]\n",
    "    if tkr == 'EUR':\n",
    "        pass\n",
    "    if tkr not in assetTickers:\n",
    "        pass\n",
    "    else:\n",
    "        # IF TKR IS IN AsssetTikcer LIST.......\n",
    "        date = myData[tkr].index[-1]\n",
    "        balance = myData[tkr]['Balance'].iloc[-1]\n",
    "        compare.loc[tkr]['TnsxDate'] = date\n",
    "        compare.loc[tkr]['Units'] = balance\n",
    "        \n",
    "compare.TnsxDate = compare.TnsxDate.dt.date    \n",
    "\n",
    "for tkr in assetTickers:\n",
    "        tdate = compare.get_value(tkr, 'TnsxDate', takeable=False) #get value from df - get the date for each ticker\n",
    "        y1, y2, y3, y4 = np.NaN, np.NaN, np.NaN, np.NaN\n",
    "        \n",
    "        try: \n",
    "            x = getPrice(tkr, tdate)\n",
    "            y3 = x.get('PriceNowBTC') \n",
    "            y4 = x.get('PriceNowGBP') \n",
    "            y1 = x.get('PricePaidBTC') \n",
    "            y2 = x.get('PricePaidGBP')\n",
    "        except:\n",
    "            print(tkr, 'exception')\n",
    "            \n",
    "        compare.loc[tkr].BTCThen = y1\n",
    "        compare.loc[tkr].GBPThen = y2\n",
    "        compare.loc[tkr].BTCNow = y3\n",
    "        compare.loc[tkr].GBPNow = y4\n",
    "        \n",
    "# manual adjustments for AE, NET:\n",
    "compare.loc['AE'].GBPThen = 118.05 / 3597\n",
    "compare.loc['AE'].BTCThen = ( 118.05 / 1150.88 ) / 3597\n",
    "\n",
    "compare.loc['NET'].GBPThen = 216 / 175\n",
    "compare.loc['NET'].BTCThen = (216 / 2601.79) / 175\n",
    "\n",
    "\n",
    "\n",
    "yesterday = dt.date.today() - timedelta(1)\n",
    "compare.loc['AE'].GBPNow = getPrice('AE', yesterday).get('PriceNowGBP')\n",
    "compare.loc['NET'].GBPNow = getPrice('NET', yesterday).get('PriceNowGBP')\n",
    "\n",
    "compare.loc['AE'].BTCNow = getPrice('AE', yesterday).get('PriceNowBTC')\n",
    "compare.loc['NET'].BTCNow = getPrice('NET', yesterday).get('PriceNowBTC')\n",
    "\n",
    "\n",
    "# more columns\n",
    "compare['BTC%Change'] = ( 100 *compare.BTCNow / compare.BTCThen) - 100\n",
    "compare['GBP%Change'] = ( 100 *compare.GBPNow / compare.GBPThen) - 100\n",
    "\n",
    "compare['TotalThenGBP'] = compare.Units * compare.GBPThen\n",
    "compare['TotalNowGBP'] = compare.Units * compare.GBPNow\n",
    "compare['HoldingChange'] = compare.TotalNowGBP - compare.TotalThenGBP\n",
    "compare['yesterday'] = yesterday\n",
    "compare['daysSinceLastTnsx'] = compare.yesterday - compare.TnsxDate\n",
    "compare = compare.drop('yesterday', axis=1)   \n",
    "compare['daysSinceLastTnsx'] = (compare.daysSinceLastTnsx / np.timedelta64(1, 'D')).astype(int)\n",
    "compare['%avDayChangeBTC'] = 100*((compare.BTCNow / compare.BTCThen ) ** (1/compare.daysSinceLastTnsx))  -100\n",
    "compare['%avDayChangeGBP'] = 100*((compare.GBPNow / compare.GBPThen ) ** (1/compare.daysSinceLastTnsx))  -100\n",
    "\n",
    "# reorder Columns\n",
    "#cols = compare.columns.tolist()\n",
    "cols = ['TnsxDate',\n",
    " 'daysSinceLastTnsx',\n",
    " '%avDayChangeBTC',\n",
    " '%avDayChangeGBP',\n",
    " 'Units',\n",
    " 'TotalThenGBP',\n",
    " 'TotalNowGBP',\n",
    " 'HoldingChange',\n",
    " 'GBPThen',\n",
    " 'GBPNow',\n",
    " 'GBP%Change',\n",
    " 'BTCThen',\n",
    " 'BTCNow',\n",
    " 'BTC%Change']\n",
    "compare = compare[cols]\n",
    "\n",
    "standingDataDir = \"/users/John/projects/cryptoTracker/outputs/standingData\"\n",
    "os.chdir(standingDataDir)\n",
    "\n",
    "f = open('tableReference.csv','a') # w for overwrite, a for append\n",
    "f.write('priceChangeTnsx.csv, change in prince since each assets last tnsx') #Give your csv text here.\n",
    "f.write('\\n') # Python will convert \\n to os.linesep\n",
    "f.close()\n",
    "\n",
    "#compare"
   ]
  },
  {
   "cell_type": "markdown",
   "metadata": {},
   "source": [
    "## Output files \n",
    "### **AssetBal **"
   ]
  },
  {
   "cell_type": "markdown",
   "metadata": {},
   "source": [
    "HTML('''To see the code used, click <a href=\"javascript:code_toggle()\">here</a>''')"
   ]
  },
  {
   "cell_type": "markdown",
   "metadata": {},
   "source": [
    "#### Alt coin list STILL2"
   ]
  },
  {
   "cell_type": "code",
   "execution_count": null,
   "metadata": {
    "collapsed": true
   },
   "outputs": [],
   "source": [
    "##########################################################################\n",
    "# Join coinbase wallet, coinbase vault and offline transactions together #\n",
    "##########################################################################\n",
    "\n",
    "# BITCOIN \n",
    "BTC_cb = pd.merge(myData['BTC_cbw'][['Balance']],\n",
    "             myData['BTC_cbv'][['Balance']],\n",
    "             suffixes=('_cbw', '_cbv'),\n",
    "             left_index = True,\n",
    "             right_index = True,\n",
    "             how='outer'\n",
    "            )\n",
    "#BTC_cb.tail()\n",
    "#myData['BTC'][['Balance']].tail()\n",
    "\n",
    "BTC_all = pd.merge(BTC_cb,\n",
    "             myData['BTC'][['Balance']],\n",
    "             left_index = True,\n",
    "             right_index = True,\n",
    "             how='outer'\n",
    "            )\n",
    "\n",
    "#BTC_all.tail()\n",
    "\n",
    "BTC_all['Balance_cbw'].fillna(method='ffill', inplace=True)\n",
    "BTC_all['Balance_cbv'].fillna(method='ffill', inplace=True)\n",
    "BTC_all['Balance'].fillna(method='ffill', inplace=True)\n",
    "\n",
    "#BTC_all.tail()\n",
    "\n",
    "BTC_all['Balance'] = BTC_all['Balance'].astype(float)\n",
    "BTC_all['BTC_total'] = BTC_all.sum(axis=1) \n",
    "\n",
    "#BTC_all.tail()\n",
    "\n",
    "# ETHEREUM\n",
    "ETH_cb = pd.merge(myData['ETH_cbw'][['Balance']],\n",
    "             myData['ETH_cbv'][['Balance']],\n",
    "             suffixes=('_cbw', '_cbv'),\n",
    "             left_index = True,\n",
    "             right_index = True,\n",
    "             how='outer'\n",
    "            )\n",
    "\n",
    "ETH_all = pd.merge(ETH_cb,\n",
    "             myData['ETH'][['Balance']],\n",
    "             left_index = True,\n",
    "             right_index = True,\n",
    "             how='outer'\n",
    "            )\n",
    "\n",
    "ETH_all['Balance_cbw'].fillna(method='ffill', inplace=True)\n",
    "ETH_all['Balance_cbv'].fillna(method='ffill', inplace=True)\n",
    "ETH_all['Balance'].fillna(method='ffill', inplace=True)\n",
    "\n",
    "ETH_all['Balance'] = ETH_all['Balance'].astype(float)\n",
    "ETH_all['ETH_total'] = ETH_all.sum(axis=1) \n",
    "\n",
    "# LITECOIN\n",
    "LTC_cb = pd.merge(myData['LTC_cbw'][['Balance']],\n",
    "             myData['LTC_cbv'][['Balance']],\n",
    "             suffixes=('_cbw', '_cbv'),\n",
    "             left_index = True,\n",
    "             right_index = True,\n",
    "             how='outer'\n",
    "            )\n",
    "\n",
    "LTC_all = pd.merge(LTC_cb,\n",
    "             myData['LTC'][['Balance']],\n",
    "             left_index = True,\n",
    "             right_index = True,\n",
    "             how='outer'\n",
    "            )\n",
    "\n",
    "LTC_all.Balance_cbw.fillna(method='ffill', inplace=True)\n",
    "LTC_all.Balance_cbv.fillna(method='ffill', inplace=True)\n",
    "LTC_all.Balance.fillna(method='ffill', inplace=True)\n",
    "\n",
    "LTC_all['Balance'] = LTC_all['Balance'].astype(float)\n",
    "LTC_all['LTC_total'] = LTC_all.sum(axis=1) \n",
    "\n",
    "#myData['AE']\n",
    "\n",
    "############ \n",
    "############ \n",
    "############ \n",
    "\n",
    "tdic = {}\n",
    "for i in range(len(assetTickers_all)):\n",
    "    #print(assetTickers_all[i])\n",
    "    tdic[assetTickers_all[i]] = myData[assetTickers[i]][['Balance']]\n",
    "\n",
    "### ALTS ###\n",
    "############\n",
    "\n",
    "for i in range(len(assetTickers)):\n",
    "    tdic[assetTickers_all[i]][assetTickers[i]] = tdic[assetTickers_all[i]]['Balance']\n",
    "#    #print(tdic[assetTickers_all[i]]['Balance'])\n",
    "#    #print(tdic[assetTickers_all[i][assetTickers[i]]] )\n",
    "    \n",
    "\n",
    "#print the keys:\n",
    "#for key in tdic:\n",
    "#    print(key)  \n",
    "\n",
    "### ALTS ###\n",
    "############\n",
    "\n",
    "BTC_all['BTC'] = BTC_all['BTC_total']\n",
    "ETH_all['ETH'] = ETH_all['ETH_total']\n",
    "LTC_all['LTC'] = LTC_all['LTC_total']\n",
    "\n",
    "string = ''\n",
    "for i in range(len(assetTickers_all)):\n",
    "    #print(i)\n",
    "    #print(string)\n",
    "    string = string + ',' + \"tdic['\" + str(assetTickers_all[i]) + \"']['\" + str(assetTickers[i]) + \"']\" \n",
    "\n",
    "#print (\"tdic value is:\")\n",
    "#tdic['ZRX_all']\n",
    "\n",
    "string = \"myData['EUR_cb']['EUR']\" + string \n",
    "\n",
    "#print(\"string is\")\n",
    "#string\n",
    "\n",
    "assetBal = pd.concat(eval(string),axis=1, join='outer')\n"
   ]
  },
  {
   "cell_type": "code",
   "execution_count": null,
   "metadata": {
    "collapsed": true
   },
   "outputs": [],
   "source": []
  },
  {
   "cell_type": "code",
   "execution_count": null,
   "metadata": {
    "collapsed": true
   },
   "outputs": [],
   "source": [
    "# Override because of transfer to external wallet and then tranfer back to coinbase.\n",
    "assetBal['BTC'].loc['2017-07-28' : '2017-08-07 15:49:44'] = 0.755825\n",
    "#end = df.iloc[-1:].index[0]\n",
    "#df = df.loc['2017-06-21':end]"
   ]
  },
  {
   "cell_type": "code",
   "execution_count": null,
   "metadata": {
    "collapsed": true
   },
   "outputs": [],
   "source": [
    "# Set the first entry (1 Jan 2017) to 0 so that fillna works\n",
    "assetBal['EUR'][0] = 0\n",
    "for column in assetBal:\n",
    "    assetBal[column].fillna(method='ffill', inplace=True)    \n",
    "    \n",
    "for column in cost:\n",
    "    cost[column].fillna(method='ffill', inplace=True) "
   ]
  },
  {
   "cell_type": "code",
   "execution_count": null,
   "metadata": {},
   "outputs": [],
   "source": [
    "standingDataDir = \"/users/John/projects/cryptoTracker/outputs/standingData\"\n",
    "os.chdir(standingDataDir)\n",
    "\n",
    "f = open('tableReference.csv','a') # w for overwrite, a for append\n",
    "f.write('assetBal.csv, number of units of each asset. daily, ') #Give your csv text here.\n",
    "f.write('\\n') # Python will convert \\n to os.linesep\n",
    "f.close()\n",
    "\n",
    "f = open('tableReference.csv','a') # w for overwrite, a for append\n",
    "f.write('cost.csv, GBP invested in each asset, ') #Give your csv text here.\n",
    "f.write('\\n') # Python will convert \\n to os.linesep\n",
    "f.close()"
   ]
  },
  {
   "cell_type": "markdown",
   "metadata": {},
   "source": [
    "### **AssetValue**"
   ]
  },
  {
   "cell_type": "markdown",
   "metadata": {},
   "source": [
    "HTML('''To see the code used, click <a href=\"javascript:code_toggle()\">here</a>''')"
   ]
  },
  {
   "cell_type": "code",
   "execution_count": null,
   "metadata": {
    "collapsed": true
   },
   "outputs": [],
   "source": [
    "# merge daily price data with balance table\n",
    "assetValue = pd.merge(marketData,\n",
    "               assetBal,\n",
    "               how='outer',\n",
    "               left_index = True,\n",
    "               right_index = True\n",
    "              )\n",
    "\n",
    "# prices (£) are at day close\n",
    "for column in assetValue:\n",
    "    assetValue[column].fillna(method='ffill', inplace=True) \n",
    "\n",
    "assetValue.dropna(axis=0,\n",
    "           thresh=1,\n",
    "           subset=['BTC','ETH','LTC'],\n",
    "           inplace = True\n",
    "          )"
   ]
  },
  {
   "cell_type": "markdown",
   "metadata": {},
   "source": [
    "#### Alt coin list  STILL3"
   ]
  },
  {
   "cell_type": "code",
   "execution_count": null,
   "metadata": {
    "scrolled": true
   },
   "outputs": [],
   "source": [
    " \n",
    "    \n",
    "    \n",
    "for i in range(len(assetTickers)):\n",
    "    assetValue[assetTickers_val[i]] = assetValue[assetTickers_[i]] * assetValue[assetTickers[i]] \n",
    "\n",
    "assetValue.head()\n",
    "\n",
    "# TOTAL VALUE\n",
    "\n",
    "string = ''\n",
    "for i in range(len(assetTickers)):\n",
    "    #print(i)\n",
    "    #print(string)\n",
    "    string = string + \"assetValue['\" + str(assetTickers_val[i]) + \"'].fillna(0) + \"\n",
    "                          \n",
    "\n",
    "string = string[:-2]\n",
    "assetValue['tot_val'] = eval(string)\n",
    "\n",
    "\n",
    "#assetValue[['btc_val','BTC_total','BTC_']] \n",
    "\n",
    "# DROP EXTRA COLUMNS\n",
    "\n",
    "string = '['\n",
    "for i in range(len(assetTickers)):\n",
    "    #print(i)\n",
    "    #print(string)\n",
    "    string = string + \"'\" + str(assetTickers_[i]) + \"', '\" + str(assetTickers[i]) + \"', \"\n",
    "    \n",
    "string = string[:-2] + ']'\n",
    "string = eval(string)\n",
    "string\n",
    "\n",
    "assetValue = assetValue.drop(string,1)      \n",
    "\n",
    "# GET MEAN AVERAGE VALUE FOR EACH DAY\n",
    "assetValue = assetValue.resample('D').mean()\n",
    "\n",
    "# SET 0 to NAN\n",
    "assetValue = assetValue.replace(0, np.nan)\n",
    "\n",
    "# RE-ARRANGE COLUMNS\n",
    "cols = assetValue.columns.tolist()\n",
    "cols = cols[-1:] + cols[:-1]\n",
    "assetValue = assetValue[cols]\n",
    "\n",
    "standingDataDir = \"/users/John/projects/cryptoTracker/outputs/standingData\"\n",
    "os.chdir(standingDataDir)\n",
    "\n",
    "f = open('tableReference.csv','a') # w for overwrite, a for append\n",
    "f.write('assetValue.csv, closing daily price of each asset, calculated as market price * number of units ') #Give your csv text here.\n",
    "f.write('\\n') # Python will convert \\n to os.linesep\n",
    "f.close()\n"
   ]
  },
  {
   "cell_type": "markdown",
   "metadata": {},
   "source": [
    "### **Performance** table"
   ]
  },
  {
   "cell_type": "code",
   "execution_count": null,
   "metadata": {},
   "outputs": [],
   "source": [
    "################################\n",
    "### CREATE PERFORMANCE TABLE ###\n",
    "################################\n",
    "\n",
    "# calc return\n",
    "\n",
    "performance = pd.merge(assetValue,\n",
    "             cost,\n",
    "             left_index = True,\n",
    "             right_index = True,\n",
    "             how='outer'\n",
    "             )\n",
    "\n",
    "for column in performance:\n",
    "    performance[column].fillna(method='ffill', inplace=True)    \n",
    "\n",
    "performance['all'] = performance['tot_val'] / performance['COST_total']\n",
    "\n",
    "for i in range(len(assetTickers)):\n",
    "        performance[assetTickersp[i]] = performance[assetTickers_val[i]] / performance[assetTickers[i]]\n",
    "\n",
    "#performance[['ZRXp','zrx_val','ZRX','ADAp','ada_val','ADA']].tail()\n",
    " \n",
    "string = '['\n",
    "for i in range(len(assetTickers)):\n",
    "    #print(i)\n",
    "    #print(string)\n",
    "    string = string + \"'\" + str(assetTickers_val[i]) + \"', '\" + str(assetTickers[i]) + \"', \"\n",
    "    \n",
    "string = string[:-2] + ']'\n",
    "string = eval(string)\n",
    "\n",
    "#performance.tail()\n",
    "performance = performance.drop(string,1)\n",
    "\n",
    "performance = performance.resample('D').mean()\n",
    "#performance.columns = ['all','BTC','ETH','LTC','AE']\n",
    "\n",
    "standingDataDir = \"/users/John/projects/cryptoTracker/outputs/standingData\"\n",
    "os.chdir(standingDataDir)\n",
    "\n",
    "f = open('tableReference.csv','a') # w for overwrite, a for append\n",
    "f.write('Performance.csv, daily price compared to original cost as percent, e.g. 110% = 10% gain ') #Give your csv text here.\n",
    "f.write('\\n') # Python will convert \\n to os.linesep\n",
    "f.close()"
   ]
  },
  {
   "cell_type": "code",
   "execution_count": null,
   "metadata": {},
   "outputs": [],
   "source": [
    "now = datetime.now()\n",
    "nowTime = now.time()\n",
    "yesterday = date.today() - timedelta(1)\n",
    "today = datetime.strftime(now, '%Y-%m-%d')\n",
    "if nowTime <= time(8,30):\n",
    "    now = yesterday\n",
    "else:\n",
    "    now = date.today()\n",
    "\n",
    "today = now\n",
    "print(\"'today' is: \",now)"
   ]
  },
  {
   "cell_type": "code",
   "execution_count": null,
   "metadata": {
    "scrolled": true
   },
   "outputs": [],
   "source": [
    "yday = today - dt.timedelta(days=1)\n",
    "yday_string = yday.strftime(\"%Y-%m-%d\")\n",
    "\n",
    "last_month = now - dt.timedelta(days=31)\n",
    "last_month_string = last_month.strftime(\"%Y-%m-%d\")\n",
    "\n",
    "a = marketData.loc[yday_string] # today must be a string in quotes\n",
    "b = marketData.loc[last_month_string]\n",
    "\n",
    "assetTickersp30_dic = {}\n",
    "for i in range(len(assetTickers)):\n",
    "    key = str(assetTickers[i])\n",
    "    assetTickersp30_dic[key] = ( a[assetTickers_[i]]/b[assetTickers_[i]] -1 ) * 100\n",
    "\n",
    "assetTickersp30_dic['allAssets'] = ( assetValue.loc[yday_string]['tot_val'] / assetValue.loc[last_month_string]['tot_val'] - 1 ) * 100\n",
    "assetTickersp30_dic\n"
   ]
  },
  {
   "cell_type": "code",
   "execution_count": null,
   "metadata": {},
   "outputs": [],
   "source": [
    "#now = dt.datetime.now()\n",
    "#today = datetime.strftime(now, '%Y-%m-%d')\n",
    "\n",
    "yday = now - dt.timedelta(days=1)\n",
    "ydayS = yday.strftime(\"%Y-%m-%d\")\n",
    "\n",
    "last_week = now - dt.timedelta(days=8)\n",
    "last_weekS = last_week.strftime(\"%Y-%m-%d\")\n",
    "\n",
    "a = marketData.loc[ydayS] # today must be a string in quotes\n",
    "b = marketData.loc[last_weekS]\n",
    "\n",
    "assetTickersp7_dic = {}\n",
    "for i in range(len(assetTickers)):\n",
    "    key = str(assetTickers[i])\n",
    "    assetTickersp7_dic[key] = ( a[assetTickers_[i]]/b[assetTickers_[i]] -1 ) * 100\n",
    "\n",
    "#allAssets7 = ( assetValue.loc[ydayS]['tot_val'] / assetValue.loc[last_weekS]['tot_val'] - 1 ) * 100\n",
    "\n",
    "assetTickersp7_dic['allAssets'] = ( assetValue.loc[ydayS]['tot_val'] / assetValue.loc[last_weekS]['tot_val'] - 1 ) * 100\n",
    "assetTickersp7_dic\n",
    "\n"
   ]
  },
  {
   "cell_type": "code",
   "execution_count": null,
   "metadata": {},
   "outputs": [],
   "source": [
    "yday = now - dt.timedelta(days=1)\n",
    "ydayS = yday.strftime(\"%Y-%m-%d\")\n",
    "\n",
    "twoDaysAgo = now - dt.timedelta(days=2)\n",
    "twoDaysAgoS = twoDaysAgo.strftime(\"%Y-%m-%d\")\n",
    "\n",
    "a = marketData.loc[ydayS] # today must be a string in quotes\n",
    "b = marketData.loc[twoDaysAgoS]\n",
    "\n",
    "\n",
    "assetTickersp1_dic = {}\n",
    "for i in range(len(assetTickers)):\n",
    "    key = str(assetTickers[i])\n",
    "    assetTickersp1_dic[key] = ( a[assetTickers_[i]]/b[assetTickers_[i]] -1 ) * 100\n",
    "\n",
    "#allAssets1 = ( assetValue.loc[ydayS]['tot_val'] / assetValue.loc[twoDaysAgoS]['tot_val'] - 1 ) * 100\n",
    "\n",
    "\n",
    "assetTickersp1_dic['allAssets'] = ( assetValue.loc[ydayS]['tot_val'] / assetValue.loc[twoDaysAgoS]['tot_val'] - 1 ) * 100\n",
    "assetTickersp1_dic"
   ]
  },
  {
   "cell_type": "code",
   "execution_count": null,
   "metadata": {},
   "outputs": [],
   "source": [
    "ticker1 = []\n",
    "for each in assetTickers:\n",
    "    ticker1.append(each.lower()+'1')\n",
    "\n",
    "ticker7 = []\n",
    "for each in assetTickers:\n",
    "    ticker7.append(each.lower()+'7')\n",
    "\n",
    "ticker30 = []\n",
    "for each in assetTickers:\n",
    "    ticker30.append(each.lower()+'30')    \n",
    "    \n",
    "perf1 = []\n",
    "for name in assetTickers:\n",
    "    perf1.append(assetTickersp1_dic[name])\n",
    "\n",
    "perf7 = []\n",
    "for name in assetTickers:\n",
    "    perf7.append(assetTickersp7_dic[name])\n",
    "    \n",
    "perf30 = []\n",
    "for name in assetTickers:\n",
    "    perf30.append(assetTickersp30_dic[name])\n",
    "    \n",
    "priceChange = pd.DataFrame(\n",
    "    {\n",
    "    'Ticker': assetTickers,\n",
    "    'Asset': assetNames,\n",
    "    '_30Day': perf30,\n",
    "    '_07Day': perf7,\n",
    "    '_01Day': perf1\n",
    "    })   \n",
    "\n",
    "\n",
    "standingDataDir = \"/users/John/projects/cryptoTracker/outputs/standingData\"\n",
    "os.chdir(standingDataDir)\n",
    "\n",
    "f = open('tableReference.csv','a') # w for overwrite, a for append\n",
    "f.write('PriceChange.csv, Percentage change in the market price of assets over the last n days, n = 7 or 30') #Give your csv text here.\n",
    "f.write('\\n') # Python will convert \\n to os.linesep\n",
    "f.close()"
   ]
  },
  {
   "cell_type": "markdown",
   "metadata": {},
   "source": [
    "## Export tables"
   ]
  },
  {
   "cell_type": "markdown",
   "metadata": {},
   "source": [
    "HTML('''To see the code used, click <a href=\"javascript:code_toggle()\">here</a>''')"
   ]
  },
  {
   "cell_type": "code",
   "execution_count": null,
   "metadata": {
    "collapsed": true
   },
   "outputs": [],
   "source": [
    "# Set the pwd\n",
    "fileDir0 = \"/users/John/projects/cryptoTracker/outputs/timeSeries\"\n",
    "os.chdir(fileDir0)\n",
    "\n",
    "# export tables\n",
    "marketData.to_csv(\"marketData.csv\", encoding='utf-8')\n",
    "assetBal.to_csv(\"assetBal.csv\")\n",
    "cost.to_csv(\"cost.csv\")\n",
    "assetValue.to_csv(\"assetValue.csv\")\n",
    "performance.to_csv(\"performance.csv\")\n",
    "priceChange.to_csv(\"priceChange.csv\")\n",
    "compare.to_csv(\"priceChangeTnsx.csv\")"
   ]
  },
  {
   "cell_type": "code",
   "execution_count": null,
   "metadata": {},
   "outputs": [],
   "source": [
    "print(\"all done\")"
   ]
  }
 ],
 "metadata": {
  "kernelspec": {
   "display_name": "Python 3",
   "language": "python",
   "name": "python3"
  },
  "language_info": {
   "codemirror_mode": {
    "name": "ipython",
    "version": 3
   },
   "file_extension": ".py",
   "mimetype": "text/x-python",
   "name": "python",
   "nbconvert_exporter": "python",
   "pygments_lexer": "ipython3",
   "version": "3.6.5"
  },
  "toc": {
   "colors": {
    "hover_highlight": "#DAA520",
    "navigate_num": "#000000",
    "navigate_text": "#333333",
    "running_highlight": "#FF0000",
    "selected_highlight": "#FFD700",
    "sidebar_border": "#EEEEEE",
    "wrapper_background": "#FFFFFF"
   },
   "moveMenuLeft": true,
   "nav_menu": {
    "height": "12px",
    "width": "252px"
   },
   "navigate_menu": true,
   "number_sections": true,
   "sideBar": true,
   "skip_h1_title": true,
   "threshold": 4,
   "toc_cell": true,
   "toc_position": {
    "height": "651px",
    "left": "0px",
    "right": "1228px",
    "top": "107px",
    "width": "100px"
   },
   "toc_section_display": "none",
   "toc_window_display": true,
   "widenNotebook": false
  }
 },
 "nbformat": 4,
 "nbformat_minor": 2
}
